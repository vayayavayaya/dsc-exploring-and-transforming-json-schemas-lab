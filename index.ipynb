{
 "cells": [
  {
   "cell_type": "markdown",
   "metadata": {},
   "source": [
    "# Exploring and Transforming JSON Schemas - Lab"
   ]
  },
  {
   "cell_type": "markdown",
   "metadata": {},
   "source": [
    "# Introduction\n",
    "\n",
    "In this lab, you'll practice exploring a JSON file whose structure and schema is unknown to you. We will provide you with limited information, and you will explore the dataset to answer the specified question."
   ]
  },
  {
   "cell_type": "markdown",
   "metadata": {},
   "source": [
    "## Objectives\n",
    "\n",
    "You will be able to:\n",
    "\n",
    "* Use the `json` module to load and parse JSON documents\n",
    "* Explore and extract data using unknown JSON schemas\n",
    "* Convert JSON to a pandas dataframe"
   ]
  },
  {
   "cell_type": "markdown",
   "metadata": {},
   "source": [
    "## Your Task: Create a Bar Graph of the Top 10 States with the Highest Asthma Rates for Adults Age 18+\n",
    "\n",
    "The information you need to create this graph is located in `disease_data.json`. It contains both data and metadata.\n",
    "\n",
    "You are given the following codebook/data dictionary:\n",
    "\n",
    "* The actual data values are associated with the key `'DataValue'`\n",
    "* The state names are associated with the key `'LocationDesc'`\n",
    "* To filter to the appropriate records, make sure:\n",
    "  * The `'Question'` is `'Current asthma prevalence among adults aged >= 18 years'`\n",
    "  * The `'StratificationCategoryID1'` is `'OVERALL'`\n",
    "  * The `'DataValueTypeID'` is `'CRDPREV'`\n",
    "  * The `'LocationDesc'` is not `'United States'`\n",
    "  \n",
    "The provided JSON file contains both data and metadata, and you will need to parse the metadata in order to understand the meanings of the values in the data.\n",
    "\n",
    "No further information about the structure of this file is provided."
   ]
  },
  {
   "cell_type": "markdown",
   "metadata": {},
   "source": [
    "## Load the JSON File\n",
    "\n",
    "Load the data from the file `disease_data.json` into a variable `data`."
   ]
  },
  {
   "cell_type": "code",
   "execution_count": 61,
   "metadata": {},
   "outputs": [],
   "source": [
    "# Your code here \n",
    "import json\n",
    "\n",
    "with open('disease_data.json', 'r') as file:\n",
    "    data = json.load(file)"
   ]
  },
  {
   "cell_type": "markdown",
   "metadata": {},
   "source": [
    "## Explore the Overall Structure\n",
    "\n",
    "What is the overall data type of `data`?"
   ]
  },
  {
   "cell_type": "code",
   "execution_count": 63,
   "metadata": {},
   "outputs": [
    {
     "name": "stdout",
     "output_type": "stream",
     "text": [
      "`data` has type <class 'dict'>\n"
     ]
    }
   ],
   "source": [
    "# Your code here\n",
    "print(\"`data` has type\", type(data))\n"
   ]
  },
  {
   "cell_type": "markdown",
   "metadata": {},
   "source": [
    "What are the keys?"
   ]
  },
  {
   "cell_type": "code",
   "execution_count": 49,
   "metadata": {},
   "outputs": [
    {
     "name": "stdout",
     "output_type": "stream",
     "text": [
      "The keys are ['meta', 'data']\n"
     ]
    }
   ],
   "source": [
    "# Your code here\n",
    "print(\"The keys are\", list(data.keys()))"
   ]
  },
  {
   "cell_type": "markdown",
   "metadata": {},
   "source": [
    "What are the data types associates with those keys?"
   ]
  },
  {
   "cell_type": "code",
   "execution_count": 65,
   "metadata": {},
   "outputs": [
    {
     "data": {
      "text/plain": [
       "list"
      ]
     },
     "execution_count": 65,
     "metadata": {},
     "output_type": "execute_result"
    }
   ],
   "source": [
    "# Your code here (data)\n",
    "type(data['data'])"
   ]
  },
  {
   "cell_type": "code",
   "execution_count": 67,
   "metadata": {},
   "outputs": [
    {
     "data": {
      "text/plain": [
       "dict"
      ]
     },
     "execution_count": 67,
     "metadata": {},
     "output_type": "execute_result"
    }
   ],
   "source": [
    "# Your code here (metadata)\n",
    "type(data['meta'])"
   ]
  },
  {
   "cell_type": "markdown",
   "metadata": {},
   "source": [
    "Perform additional exploration to understand the contents of these values. For dictionaries, what are their keys? For lists, what is the length, and what does the first element look like?"
   ]
  },
  {
   "cell_type": "code",
   "execution_count": 69,
   "metadata": {},
   "outputs": [
    {
     "data": {
      "text/plain": [
       "60266"
      ]
     },
     "execution_count": 69,
     "metadata": {},
     "output_type": "execute_result"
    }
   ],
   "source": [
    "# Your code here (add additional cells as needed)\n",
    "len(data['data'])"
   ]
  },
  {
   "cell_type": "code",
   "execution_count": 71,
   "metadata": {},
   "outputs": [
    {
     "data": {
      "text/plain": [
       "[[1,\n",
       "  'FF49C41F-CE8D-46C4-9164-653B1227CF6F',\n",
       "  1,\n",
       "  1527194521,\n",
       "  '959778',\n",
       "  1527194521,\n",
       "  '959778',\n",
       "  None,\n",
       "  '2016',\n",
       "  '2016',\n",
       "  'US',\n",
       "  'United States',\n",
       "  'BRFSS',\n",
       "  'Alcohol',\n",
       "  'Binge drinking prevalence among adults aged >= 18 years',\n",
       "  None,\n",
       "  '%',\n",
       "  'Crude Prevalence',\n",
       "  '16.9',\n",
       "  '16.9',\n",
       "  '*',\n",
       "  '50 States + DC: US Median',\n",
       "  '16',\n",
       "  '18',\n",
       "  'Overall',\n",
       "  'Overall',\n",
       "  None,\n",
       "  None,\n",
       "  None,\n",
       "  None,\n",
       "  [None, None, None, None, None],\n",
       "  None,\n",
       "  '59',\n",
       "  'ALC',\n",
       "  'ALC2_2',\n",
       "  'CRDPREV',\n",
       "  'OVERALL',\n",
       "  'OVR',\n",
       "  None,\n",
       "  None,\n",
       "  None,\n",
       "  None],\n",
       " [2,\n",
       "  'F4468C3D-340A-4CD2-84A3-DF554DFF065E',\n",
       "  2,\n",
       "  1527194521,\n",
       "  '959778',\n",
       "  1527194521,\n",
       "  '959778',\n",
       "  None,\n",
       "  '2016',\n",
       "  '2016',\n",
       "  'AL',\n",
       "  'Alabama',\n",
       "  'BRFSS',\n",
       "  'Alcohol',\n",
       "  'Binge drinking prevalence among adults aged >= 18 years',\n",
       "  None,\n",
       "  '%',\n",
       "  'Crude Prevalence',\n",
       "  '13',\n",
       "  '13',\n",
       "  None,\n",
       "  None,\n",
       "  '11.9',\n",
       "  '14.1',\n",
       "  'Overall',\n",
       "  'Overall',\n",
       "  None,\n",
       "  None,\n",
       "  None,\n",
       "  None,\n",
       "  [None, '32.84057112200048', '-86.63186076199969', None, False],\n",
       "  None,\n",
       "  '01',\n",
       "  'ALC',\n",
       "  'ALC2_2',\n",
       "  'CRDPREV',\n",
       "  'OVERALL',\n",
       "  'OVR',\n",
       "  None,\n",
       "  None,\n",
       "  None,\n",
       "  None]]"
      ]
     },
     "execution_count": 71,
     "metadata": {},
     "output_type": "execute_result"
    }
   ],
   "source": [
    "data['data'][:2]"
   ]
  },
  {
   "cell_type": "code",
   "execution_count": 73,
   "metadata": {},
   "outputs": [
    {
     "data": {
      "text/plain": [
       "list"
      ]
     },
     "execution_count": 73,
     "metadata": {},
     "output_type": "execute_result"
    }
   ],
   "source": [
    "type(data['data']) # data-type: list"
   ]
  },
  {
   "cell_type": "code",
   "execution_count": 75,
   "metadata": {},
   "outputs": [
    {
     "data": {
      "text/plain": [
       "[1,\n",
       " 'FF49C41F-CE8D-46C4-9164-653B1227CF6F',\n",
       " 1,\n",
       " 1527194521,\n",
       " '959778',\n",
       " 1527194521,\n",
       " '959778',\n",
       " None,\n",
       " '2016',\n",
       " '2016',\n",
       " 'US',\n",
       " 'United States',\n",
       " 'BRFSS',\n",
       " 'Alcohol',\n",
       " 'Binge drinking prevalence among adults aged >= 18 years',\n",
       " None,\n",
       " '%',\n",
       " 'Crude Prevalence',\n",
       " '16.9',\n",
       " '16.9',\n",
       " '*',\n",
       " '50 States + DC: US Median',\n",
       " '16',\n",
       " '18',\n",
       " 'Overall',\n",
       " 'Overall',\n",
       " None,\n",
       " None,\n",
       " None,\n",
       " None,\n",
       " [None, None, None, None, None],\n",
       " None,\n",
       " '59',\n",
       " 'ALC',\n",
       " 'ALC2_2',\n",
       " 'CRDPREV',\n",
       " 'OVERALL',\n",
       " 'OVR',\n",
       " None,\n",
       " None,\n",
       " None,\n",
       " None]"
      ]
     },
     "execution_count": 75,
     "metadata": {},
     "output_type": "execute_result"
    }
   ],
   "source": [
    "data['data'][0] # first element in the list\n"
   ]
  },
  {
   "cell_type": "code",
   "execution_count": 77,
   "metadata": {},
   "outputs": [
    {
     "data": {
      "text/plain": [
       "42"
      ]
     },
     "execution_count": 77,
     "metadata": {},
     "output_type": "execute_result"
    }
   ],
   "source": [
    "len(data['data'][0]) # number of elements: 42"
   ]
  },
  {
   "cell_type": "markdown",
   "metadata": {},
   "source": [
    "As you likely identified, we have a list of lists forming the `'data'`. In order to make sense of that list of lists, we need to find the meaning of each index, i.e. the names of the columns.\n",
    "\n",
    "## Identify the Column Names\n",
    "\n",
    "Look through the metadata to find the *names* of the columns, and assign that variable to `column_names`. This should be a list of strings. (If you just get the values associated with the `'columns'` key, you will have a list of dictionaries, not a list of strings.)"
   ]
  },
  {
   "cell_type": "code",
   "execution_count": 79,
   "metadata": {},
   "outputs": [
    {
     "name": "stdout",
     "output_type": "stream",
     "text": [
      "{'id': -1, 'name': 'created_at', 'dataTypeName': 'meta_data', 'fieldName': ':created_at', 'position': 0, 'renderTypeName': 'meta_data', 'format': {}, 'flags': ['hidden']}\n",
      "\n"
     ]
    },
    {
     "data": {
      "text/plain": [
       "['sid', 'id', 'position', 'created_at', 'created_meta']"
      ]
     },
     "execution_count": 79,
     "metadata": {},
     "output_type": "execute_result"
    }
   ],
   "source": [
    "# Your code here (add additional cells as needed)\n",
    "column_names = data['meta']['view']['columns']\n",
    "print(column_names[3], end = '\\n\\n')\n",
    "\n",
    "column_names = [column['name'] for column in column_names]\n",
    "column_names[:5]"
   ]
  },
  {
   "cell_type": "markdown",
   "metadata": {},
   "source": [
    "The following code checks that you have the correct column names:"
   ]
  },
  {
   "cell_type": "code",
   "execution_count": 81,
   "metadata": {},
   "outputs": [],
   "source": [
    "# Run this cell without changes\n",
    "\n",
    "# 42 total columns\n",
    "assert len(column_names) == 42\n",
    "\n",
    "# Each name should be a string, not a dict\n",
    "assert type(column_names[0]) == str and type(column_names[-1]) == str\n",
    "\n",
    "# Check that we have some specific strings\n",
    "assert \"DataValue\" in column_names\n",
    "assert \"LocationDesc\" in column_names\n",
    "assert \"Question\" in column_names\n",
    "assert \"StratificationCategoryID1\" in column_names\n",
    "assert \"DataValueTypeID\" in column_names"
   ]
  },
  {
   "cell_type": "markdown",
   "metadata": {},
   "source": [
    "## Filter Rows Based on Columns\n",
    "\n",
    "Recall that we only want to include records where:\n",
    "\n",
    "* The `'Question'` is `'Current asthma prevalence among adults aged >= 18 years'`\n",
    "* The `'StratificationCategoryID1'` is `'OVERALL'`\n",
    "* The `'DataValueTypeID'` is `'CRDPREV'`\n",
    "* The `'LocationDesc'` is not `'United States'`\n",
    "\n",
    "Combining knowledge of the data and metadata, filter out the rows of data that are not relevant.\n",
    "\n",
    "(You may find the `pandas` library useful here.)"
   ]
  },
  {
   "cell_type": "code",
   "execution_count": 83,
   "metadata": {},
   "outputs": [
    {
     "data": {
      "text/html": [
       "<div>\n",
       "<style scoped>\n",
       "    .dataframe tbody tr th:only-of-type {\n",
       "        vertical-align: middle;\n",
       "    }\n",
       "\n",
       "    .dataframe tbody tr th {\n",
       "        vertical-align: top;\n",
       "    }\n",
       "\n",
       "    .dataframe thead th {\n",
       "        text-align: right;\n",
       "    }\n",
       "</style>\n",
       "<table border=\"1\" class=\"dataframe\">\n",
       "  <thead>\n",
       "    <tr style=\"text-align: right;\">\n",
       "      <th></th>\n",
       "      <th>DataValue</th>\n",
       "      <th>LocationDesc</th>\n",
       "      <th>Question</th>\n",
       "      <th>StratificationCategoryID1</th>\n",
       "      <th>DataValueTypeID</th>\n",
       "    </tr>\n",
       "  </thead>\n",
       "  <tbody>\n",
       "    <tr>\n",
       "      <th>9371</th>\n",
       "      <td>9.7</td>\n",
       "      <td>Alabama</td>\n",
       "      <td>Current asthma prevalence among adults aged &gt;=...</td>\n",
       "      <td>OVERALL</td>\n",
       "      <td>CRDPREV</td>\n",
       "    </tr>\n",
       "    <tr>\n",
       "      <th>9372</th>\n",
       "      <td>8.8</td>\n",
       "      <td>Alaska</td>\n",
       "      <td>Current asthma prevalence among adults aged &gt;=...</td>\n",
       "      <td>OVERALL</td>\n",
       "      <td>CRDPREV</td>\n",
       "    </tr>\n",
       "    <tr>\n",
       "      <th>9373</th>\n",
       "      <td>9.4</td>\n",
       "      <td>Arizona</td>\n",
       "      <td>Current asthma prevalence among adults aged &gt;=...</td>\n",
       "      <td>OVERALL</td>\n",
       "      <td>CRDPREV</td>\n",
       "    </tr>\n",
       "  </tbody>\n",
       "</table>\n",
       "</div>"
      ],
      "text/plain": [
       "     DataValue LocationDesc  \\\n",
       "9371       9.7      Alabama   \n",
       "9372       8.8       Alaska   \n",
       "9373       9.4      Arizona   \n",
       "\n",
       "                                               Question  \\\n",
       "9371  Current asthma prevalence among adults aged >=...   \n",
       "9372  Current asthma prevalence among adults aged >=...   \n",
       "9373  Current asthma prevalence among adults aged >=...   \n",
       "\n",
       "     StratificationCategoryID1 DataValueTypeID  \n",
       "9371                   OVERALL         CRDPREV  \n",
       "9372                   OVERALL         CRDPREV  \n",
       "9373                   OVERALL         CRDPREV  "
      ]
     },
     "execution_count": 83,
     "metadata": {},
     "output_type": "execute_result"
    }
   ],
   "source": [
    "# Your code here (add additional cells as needed)\n",
    "\n",
    "import pandas as pd  \n",
    "\n",
    "#Create DataFrame with proper column names\n",
    "df = pd.DataFrame(data['data'], columns=column_names)\n",
    "\n",
    "#filter conditions\n",
    "condition1 = (df[\"Question\"] == \"Current asthma prevalence among adults aged >= 18 years\")\n",
    "condition2 = (df[\"StratificationCategoryID1\"] == \"OVERALL\")\n",
    "condition3 = (df[\"DataValueTypeID\"] == \"CRDPREV\")\n",
    "condition4 = (df[\"LocationDesc\"] != \"United States\")\n",
    "\n",
    "#Apply the filters correctly and select relevant columns\n",
    "cols_of_interest = [\"DataValue\", \"LocationDesc\", \"Question\", \"StratificationCategoryID1\", \"DataValueTypeID\"]\n",
    "df_1 = df[cols_of_interest]\n",
    "\n",
    "df_2 = df_1.loc[condition1 & condition2 & condition3 & condition4]\n",
    "df_2.head(3)\n"
   ]
  },
  {
   "cell_type": "markdown",
   "metadata": {},
   "source": [
    "You should have 54 records after filtering.\n",
    "\n",
    "## Extract the Attributes Required for Plotting\n",
    "\n",
    "For each record, the only information we actually need for the graph is the `'DataValue'` and `'LocationDesc'`. Create a list of records that only contains these two attributes.\n",
    "\n",
    "Also, make sure that the data values are numbers, not strings."
   ]
  },
  {
   "cell_type": "code",
   "execution_count": 85,
   "metadata": {},
   "outputs": [
    {
     "data": {
      "text/html": [
       "<div>\n",
       "<style scoped>\n",
       "    .dataframe tbody tr th:only-of-type {\n",
       "        vertical-align: middle;\n",
       "    }\n",
       "\n",
       "    .dataframe tbody tr th {\n",
       "        vertical-align: top;\n",
       "    }\n",
       "\n",
       "    .dataframe thead th {\n",
       "        text-align: right;\n",
       "    }\n",
       "</style>\n",
       "<table border=\"1\" class=\"dataframe\">\n",
       "  <thead>\n",
       "    <tr style=\"text-align: right;\">\n",
       "      <th></th>\n",
       "      <th>DataValue</th>\n",
       "      <th>LocationDesc</th>\n",
       "    </tr>\n",
       "  </thead>\n",
       "  <tbody>\n",
       "    <tr>\n",
       "      <th>9371</th>\n",
       "      <td>9.7</td>\n",
       "      <td>Alabama</td>\n",
       "    </tr>\n",
       "    <tr>\n",
       "      <th>9372</th>\n",
       "      <td>8.8</td>\n",
       "      <td>Alaska</td>\n",
       "    </tr>\n",
       "  </tbody>\n",
       "</table>\n",
       "</div>"
      ],
      "text/plain": [
       "     DataValue LocationDesc\n",
       "9371       9.7      Alabama\n",
       "9372       8.8       Alaska"
      ]
     },
     "execution_count": 85,
     "metadata": {},
     "output_type": "execute_result"
    }
   ],
   "source": [
    "# Your code here (create additional cells as needed)\n",
    "df_3 = df_2[['DataValue', 'LocationDesc']]\n",
    "\n",
    "# len(final_final_df) # 54 Records\n",
    "df_3.head(2)\n"
   ]
  },
  {
   "cell_type": "markdown",
   "metadata": {},
   "source": [
    "## Find Top 10 States\n",
    "\n",
    "Sort by `'DataValue'` and limit to the first 10 records."
   ]
  },
  {
   "cell_type": "code",
   "execution_count": 87,
   "metadata": {},
   "outputs": [
    {
     "data": {
      "text/html": [
       "<div>\n",
       "<style scoped>\n",
       "    .dataframe tbody tr th:only-of-type {\n",
       "        vertical-align: middle;\n",
       "    }\n",
       "\n",
       "    .dataframe tbody tr th {\n",
       "        vertical-align: top;\n",
       "    }\n",
       "\n",
       "    .dataframe thead th {\n",
       "        text-align: right;\n",
       "    }\n",
       "</style>\n",
       "<table border=\"1\" class=\"dataframe\">\n",
       "  <thead>\n",
       "    <tr style=\"text-align: right;\">\n",
       "      <th></th>\n",
       "      <th>DataValue</th>\n",
       "      <th>LocationDesc</th>\n",
       "    </tr>\n",
       "  </thead>\n",
       "  <tbody>\n",
       "    <tr>\n",
       "      <th>9393</th>\n",
       "      <td>10.9</td>\n",
       "      <td>Michigan</td>\n",
       "    </tr>\n",
       "    <tr>\n",
       "      <th>9382</th>\n",
       "      <td>10.7</td>\n",
       "      <td>Hawaii</td>\n",
       "    </tr>\n",
       "    <tr>\n",
       "      <th>9410</th>\n",
       "      <td>10.7</td>\n",
       "      <td>Rhode Island</td>\n",
       "    </tr>\n",
       "    <tr>\n",
       "      <th>9423</th>\n",
       "      <td>10.7</td>\n",
       "      <td>Puerto Rico</td>\n",
       "    </tr>\n",
       "    <tr>\n",
       "      <th>9409</th>\n",
       "      <td>10.6</td>\n",
       "      <td>Pennsylvania</td>\n",
       "    </tr>\n",
       "    <tr>\n",
       "      <th>9377</th>\n",
       "      <td>10.5</td>\n",
       "      <td>Connecticut</td>\n",
       "    </tr>\n",
       "    <tr>\n",
       "      <th>9408</th>\n",
       "      <td>10.5</td>\n",
       "      <td>Oregon</td>\n",
       "    </tr>\n",
       "    <tr>\n",
       "      <th>9392</th>\n",
       "      <td>10.3</td>\n",
       "      <td>Massachusetts</td>\n",
       "    </tr>\n",
       "    <tr>\n",
       "      <th>9385</th>\n",
       "      <td>10.2</td>\n",
       "      <td>Indiana</td>\n",
       "    </tr>\n",
       "    <tr>\n",
       "      <th>9416</th>\n",
       "      <td>10.2</td>\n",
       "      <td>Vermont</td>\n",
       "    </tr>\n",
       "    <tr>\n",
       "      <th>9407</th>\n",
       "      <td>10</td>\n",
       "      <td>Oklahoma</td>\n",
       "    </tr>\n",
       "  </tbody>\n",
       "</table>\n",
       "</div>"
      ],
      "text/plain": [
       "     DataValue   LocationDesc\n",
       "9393      10.9       Michigan\n",
       "9382      10.7         Hawaii\n",
       "9410      10.7   Rhode Island\n",
       "9423      10.7    Puerto Rico\n",
       "9409      10.6   Pennsylvania\n",
       "9377      10.5    Connecticut\n",
       "9408      10.5         Oregon\n",
       "9392      10.3  Massachusetts\n",
       "9385      10.2        Indiana\n",
       "9416      10.2        Vermont\n",
       "9407        10       Oklahoma"
      ]
     },
     "execution_count": 87,
     "metadata": {},
     "output_type": "execute_result"
    }
   ],
   "source": [
    "# Your code here (add additional cells as needed)\n",
    "df_4 = df_3.sort_values(by = 'DataValue', ascending = False).tail(11)\n",
    "df_4"
   ]
  },
  {
   "cell_type": "markdown",
   "metadata": {},
   "source": [
    "## Separate the Names and Values for Plotting\n",
    "\n",
    "Assign the names of the top 10 states to a list-like variable `names`, and the associated values to a list-like variable `values`. Then the plotting code below should work correctly to make the desired bar graph."
   ]
  },
  {
   "cell_type": "code",
   "execution_count": 89,
   "metadata": {},
   "outputs": [
    {
     "name": "stdout",
     "output_type": "stream",
     "text": [
      "['DataValue', 'LocationDesc']\n",
      "['Michigan', 'Hawaii', 'Rhode Island', 'Puerto Rico', 'Pennsylvania', 'Connecticut', 'Oregon', 'Massachusetts', 'Indiana', 'Vermont', 'Oklahoma']\n",
      "\n",
      "['10.9', '10.7', '10.7', '10.7', '10.6', '10.5', '10.5', '10.3', '10.2', '10.2', '10']\n"
     ]
    }
   ],
   "source": [
    "# Replace None with appropriate code\n",
    "\n",
    "# column nmes\n",
    "print(list(df_4.columns))\n",
    "\n",
    "# replace now;\n",
    "\n",
    "names = list(df_4.LocationDesc)\n",
    "values = list(df_4.DataValue)\n",
    "\n",
    "print(names, values, sep = '\\n\\n')\n"
   ]
  },
  {
   "cell_type": "code",
   "execution_count": 91,
   "metadata": {},
   "outputs": [
    {
     "data": {
      "image/png": "[encoded data removed]",
      "text/plain": [
       "<Figure size 640x480 with 1 Axes>"
      ]
     },
     "metadata": {},
     "output_type": "display_data"
    }
   ],
   "source": [
    "# Run this cell without changes\n",
    "\n",
    "import matplotlib.pyplot as plt\n",
    "fig, ax = plt.subplots()\n",
    "\n",
    "ax.barh(names[::-1], values[::-1]) # Values inverted so highest is at top\n",
    "ax.set_title('Adult Asthma Rates by State in 2016')\n",
    "ax.set_xlabel('Percent 18+ with Asthma');"
   ]
  },
  {
   "cell_type": "markdown",
   "metadata": {},
   "source": [
    "## Summary\n",
    "\n",
    "In this lab you got some extended practice exploring the structure of JSON files and visualizing data."
   ]
  }
 ],
 "metadata": {
  "kernelspec": {
   "display_name": "Python [conda env:base] *",
   "language": "python",
   "name": "conda-base-py"
  },
  "language_info": {
   "codemirror_mode": {
    "name": "ipython",
    "version": 3
   },
   "file_extension": ".py",
   "mimetype": "text/x-python",
   "name": "python",
   "nbconvert_exporter": "python",
   "pygments_lexer": "ipython3",
   "version": "3.11.7"
  },
  "toc": {
   "base_numbering": 1,
   "nav_menu": {},
   "number_sections": true,
   "sideBar": true,
   "skip_h1_title": false,
   "title_cell": "Table of Contents",
   "title_sidebar": "Contents",
   "toc_cell": false,
   "toc_position": {},
   "toc_section_display": true,
   "toc_window_display": false
  }
 },
 "nbformat": 4,
 "nbformat_minor": 4
}
